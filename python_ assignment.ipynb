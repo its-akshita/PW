{
 "cells": [
  {
   "cell_type": "markdown",
   "id": "fdc833c7",
   "metadata": {},
   "source": [
    "   # Assignment 3"
   ]
  },
  {
   "cell_type": "markdown",
   "id": "385c3ae6",
   "metadata": {},
   "source": [
    "#### Q1. Which keyword is used to create a function? Create a function to return a list of odd numbers in the range of 1 to 25.\n",
    "\n"
   ]
  },
  {
   "cell_type": "markdown",
   "id": "8557db34",
   "metadata": {},
   "source": [
    "#### Ans:\n",
    "\n",
    "keyword \"def\" is used to create a function."
   ]
  },
  {
   "cell_type": "code",
   "execution_count": 3,
   "id": "86a29cb2",
   "metadata": {},
   "outputs": [
    {
     "name": "stdout",
     "output_type": "stream",
     "text": [
      "1\n",
      "3\n",
      "5\n",
      "7\n",
      "9\n",
      "11\n",
      "13\n",
      "15\n",
      "17\n",
      "19\n",
      "21\n",
      "23\n"
     ]
    }
   ],
   "source": [
    "def my_fun():\n",
    "    \n",
    "    for i in range(25):\n",
    "        \n",
    "        if i%2!=0:\n",
    "            print(i)\n",
    "            \n",
    "        else:\n",
    "            continue\n",
    "my_fun()"
   ]
  },
  {
   "cell_type": "markdown",
   "id": "27b89e06",
   "metadata": {},
   "source": [
    "#### Q2. Why *args and **kwargs is used in some functions? Create a function each for *args and **kwargs to demonstrate their use.\n",
    "\n"
   ]
  },
  {
   "cell_type": "markdown",
   "id": "a58c60c2",
   "metadata": {},
   "source": [
    "#### Ans:\n",
    "*args and *kwargs are used when you are not sure about the number of arguments can be pass to the function."
   ]
  },
  {
   "cell_type": "code",
   "execution_count": 6,
   "id": "ae63325a",
   "metadata": {},
   "outputs": [
    {
     "name": "stdout",
     "output_type": "stream",
     "text": [
      "6\n",
      "86\n",
      "3\n",
      "276\n"
     ]
    }
   ],
   "source": [
    "def add(*num):\n",
    "    \n",
    "    sum=0\n",
    "    for i in num:\n",
    "        sum = sum + i\n",
    "    \n",
    "    print(sum)\n",
    "    \n",
    "    \n",
    "add(1,2,3)\n",
    "add(1,2,3,12,35,33)\n",
    "add(1,2)\n",
    "add(1,2,30,44,77,10,30,6,76)\n"
   ]
  },
  {
   "cell_type": "code",
   "execution_count": 17,
   "id": "e62765bd",
   "metadata": {},
   "outputs": [
    {
     "name": "stdout",
     "output_type": "stream",
     "text": [
      "first_name  is  Akshita\n",
      "last_name  is  Rajput\n",
      "Phone_num  is  8766436607\n",
      "\n",
      "\n",
      "first_name  is  Akshit\n",
      "last_name  is  Rajput\n",
      "email_id  is  akki@gmail.com\n",
      "Phone_num  is  9987436607\n",
      "\n",
      "\n",
      "first_name  is  riya\n",
      "last_name  is  Rajput\n",
      "\n",
      "\n"
     ]
    }
   ],
   "source": [
    "def employ_data(**data):\n",
    "    \n",
    "    for key,value in data.items():\n",
    "        print(key,' is ',value)\n",
    "    print('\\n')    \n",
    "employ_data(first_name=\"Akshita\", last_name=\"Rajput\", Phone_num= 8766436607)\n",
    "employ_data(first_name=\"Akshit\", last_name=\"Rajput\",email_id='akki@gmail.com', Phone_num= 9987436607)\n",
    "employ_data(first_name=\"riya\", last_name=\"Rajput\")"
   ]
  },
  {
   "cell_type": "markdown",
   "id": "f2421da1",
   "metadata": {},
   "source": [
    "#### Q3. What is an iterator in python? Name the method used to initialise the iterator object and the method used for iteration. Use these methods to print the first five elements of the given list [2, 4, 6, 8, 10, 12, 14,16, 18, 20].\n",
    "\n",
    "\n"
   ]
  },
  {
   "cell_type": "markdown",
   "id": "3f10e53e",
   "metadata": {},
   "source": [
    "#### Ans:\n",
    "\n",
    "An iterator is an object that allows you to iterate over collections of data, such as lists, tuples, dictionaries, and sets."
   ]
  },
  {
   "cell_type": "markdown",
   "id": "b8a2977e",
   "metadata": {},
   "source": [
    "iter() method is used to initiate a iterator while next() method is used to for iteration."
   ]
  },
  {
   "cell_type": "code",
   "execution_count": 19,
   "id": "9d0c5958",
   "metadata": {},
   "outputs": [
    {
     "name": "stdout",
     "output_type": "stream",
     "text": [
      "2\n",
      "4\n",
      "6\n",
      "8\n",
      "10\n",
      "12\n",
      "14\n",
      "16\n",
      "18\n",
      "20\n"
     ]
    }
   ],
   "source": [
    "lst=[2,4,6,8,10,12,14,16,18,20]\n",
    "\n",
    "iterator=iter(lst)\n",
    "\n",
    "for i in range(10):\n",
    "    print(next(iterator))"
   ]
  },
  {
   "cell_type": "markdown",
   "id": "7b4123e8",
   "metadata": {},
   "source": [
    "#### Q4. What is a generator function in python? Why yield keyword is used? Give an example of a generator function.\n",
    "\n"
   ]
  },
  {
   "cell_type": "markdown",
   "id": "ccd7ab4f",
   "metadata": {},
   "source": [
    "#### Ans:\n",
    " A Python generator function allows you to declare a function that behaves like an iterator, providing a faster and easier way to create iterators."
   ]
  },
  {
   "cell_type": "markdown",
   "id": "69c99173",
   "metadata": {},
   "source": [
    "The yield keyword in Python controls the flow of a generator function. This is similar to a return statement used for returning values in Python."
   ]
  },
  {
   "cell_type": "markdown",
   "id": "ff1a5179",
   "metadata": {},
   "source": [
    "#### Q5. Create a generator function for prime numbers less than 1000. Use the next() method to print the first 20 prime numbers.\n",
    "\n"
   ]
  },
  {
   "cell_type": "code",
   "execution_count": 7,
   "id": "d7bbd056",
   "metadata": {},
   "outputs": [
    {
     "name": "stdout",
     "output_type": "stream",
     "text": [
      "First 25 Prime numbers:\n",
      "2\n",
      "3\n",
      "5\n",
      "7\n",
      "11\n",
      "13\n",
      "17\n",
      "19\n",
      "23\n",
      "29\n",
      "31\n",
      "37\n",
      "41\n",
      "43\n",
      "47\n",
      "53\n",
      "59\n",
      "61\n",
      "67\n",
      "71\n",
      "73\n",
      "79\n",
      "83\n",
      "89\n",
      "97\n"
     ]
    }
   ],
   "source": [
    "def is_prime(n):\n",
    "    if n <= 1:\n",
    "        return False\n",
    "    for i in range(2, int(n**0.5) + 1):\n",
    "        if n % i == 0:\n",
    "            return False\n",
    "    return True\n",
    "\n",
    "def prime_nums_generator():\n",
    "    n = 2\n",
    "    while True:\n",
    "        if is_prime(n):\n",
    "            yield n\n",
    "        n += 1\n",
    "\n",
    "# Create the generator object\n",
    "primes = prime_nums_generator()\n",
    "\n",
    "# Accept input from the user\n",
    "n = 25\n",
    "\n",
    "# Generate and print the first 10 prime numbers\n",
    "print(\"First\",n,\"Prime numbers:\")\n",
    "for _ in range(n):\n",
    "    print(next(primes))\n"
   ]
  },
  {
   "cell_type": "markdown",
   "id": "68aa839a",
   "metadata": {},
   "source": [
    "#### Q6. Write a python program to print the first 10 Fibonacci numbers using a while loop.\n"
   ]
  },
  {
   "cell_type": "code",
   "execution_count": 10,
   "id": "fcc0952a",
   "metadata": {},
   "outputs": [
    {
     "name": "stdout",
     "output_type": "stream",
     "text": [
      "How many terms? 10\n",
      "Fibonacci sequence:\n",
      "0\n",
      "1\n",
      "1\n",
      "2\n",
      "3\n",
      "5\n",
      "8\n",
      "13\n",
      "21\n",
      "34\n"
     ]
    }
   ],
   "source": [
    "# Program to display the Fibonacci sequence up to n-th term\n",
    "\n",
    "nterms = int(input(\"How many terms? \"))\n",
    "\n",
    "# first two terms\n",
    "n1, n2 = 0, 1\n",
    "count = 0\n",
    "\n",
    "# check if the number of terms is valid\n",
    "if nterms <= 0:\n",
    "   print(\"Please enter a positive integer\")\n",
    "\n",
    "\n",
    "# if there is only one term, return n1\n",
    "elif nterms == 1:\n",
    "   print(\"Fibonacci sequence upto\",nterms,\":\")\n",
    "   print(n1)\n",
    "    \n",
    "    \n",
    "# generate fibonacci sequence\n",
    "else:\n",
    "   print(\"Fibonacci sequence:\")\n",
    "   while count < nterms:\n",
    "       print(n1)\n",
    "       nth = n1 + n2\n",
    "       # update values\n",
    "       n1 = n2\n",
    "       n2 = nth\n",
    "       count += 1"
   ]
  },
  {
   "cell_type": "markdown",
   "id": "cd7fb9c1",
   "metadata": {},
   "source": [
    "#### Q7. Write a List Comprehension to iterate through the given string: ‘pwskills’. Expected output: ['p', 'w', 's', 'k', 'i', 'l', 'l', 's']\n",
    "\n"
   ]
  },
  {
   "cell_type": "code",
   "execution_count": 3,
   "id": "9009e7ad",
   "metadata": {},
   "outputs": [
    {
     "name": "stdout",
     "output_type": "stream",
     "text": [
      "['p', 'w', 's', 'k', 'i', 'l', 'l', 's']\n"
     ]
    }
   ],
   "source": [
    "str=\"pwskills\"\n",
    "\n",
    "\n",
    "\n",
    "l1=[ i for i in str]\n",
    "    \n",
    "    \n",
    "    \n",
    "print(l1)    "
   ]
  },
  {
   "cell_type": "markdown",
   "id": "1604c826",
   "metadata": {},
   "source": [
    "#### Q8. Write a python program to check whether a given number is Palindrome or not using a while loop.\n"
   ]
  },
  {
   "cell_type": "code",
   "execution_count": 1,
   "id": "8cf17843",
   "metadata": {},
   "outputs": [
    {
     "name": "stdout",
     "output_type": "stream",
     "text": [
      "The original number is : 101\n",
      "Is the number palindrome ? : True\n"
     ]
    }
   ],
   "source": [
    "\n",
    "\n",
    "# initializing number\n",
    "test_number = 101\n",
    "\n",
    "# printing the original number\n",
    "print (\"The original number is : \" + str(test_number))\n",
    "\n",
    "\n",
    "# for checking a number is palindrome\n",
    "res = str(test_number) == str(test_number)[::-1]\n",
    "\n",
    "# printing result\n",
    "print (\"Is the number palindrome ? : \" + str(res))\n"
   ]
  },
  {
   "cell_type": "markdown",
   "id": "2fbd4033",
   "metadata": {},
   "source": [
    "#### Q9. Write a code to print odd numbers from 1 to 100 using list comprehension."
   ]
  },
  {
   "cell_type": "code",
   "execution_count": 1,
   "id": "bc72024d",
   "metadata": {},
   "outputs": [
    {
     "name": "stdout",
     "output_type": "stream",
     "text": [
      "[1, 3, 5, 7, 9, 11, 13, 15, 17, 19, 21, 23, 25, 27, 29, 31, 33, 35, 37, 39, 41, 43, 45, 47, 49, 51, 53, 55, 57, 59, 61, 63, 65, 67, 69, 71, 73, 75, 77, 79, 81, 83, 85, 87, 89, 91, 93, 95, 97, 99]\n"
     ]
    }
   ],
   "source": [
    "# create a list of odd numbers from 1 to 100 using list comprehension\n",
    "odd_numbers = [x for x in range(1, 101) if x % 2 == 1]\n",
    "\n",
    "# print the list\n",
    "print(odd_numbers)\n"
   ]
  }
 ],
 "metadata": {
  "kernelspec": {
   "display_name": "Python 3 (ipykernel)",
   "language": "python",
   "name": "python3"
  },
  "language_info": {
   "codemirror_mode": {
    "name": "ipython",
    "version": 3
   },
   "file_extension": ".py",
   "mimetype": "text/x-python",
   "name": "python",
   "nbconvert_exporter": "python",
   "pygments_lexer": "ipython3",
   "version": "3.10.9"
  }
 },
 "nbformat": 4,
 "nbformat_minor": 5
}
