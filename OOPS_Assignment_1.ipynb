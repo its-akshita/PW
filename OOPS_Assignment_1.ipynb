{
 "cells": [
  {
   "cell_type": "markdown",
   "id": "225b7913",
   "metadata": {},
   "source": [
    "#  OOPS Assignment 1"
   ]
  },
  {
   "cell_type": "markdown",
   "id": "72ceb5aa",
   "metadata": {},
   "source": [
    "#### Q1. Explain Class and Object with respect to Object-Oriented Programming. Give a suitable example.\n"
   ]
  },
  {
   "cell_type": "markdown",
   "id": "b5fc1f80",
   "metadata": {},
   "source": [
    "Class:-\n"
   ]
  },
  {
   "cell_type": "markdown",
   "id": "05b4ee0a",
   "metadata": {},
   "source": [
    "A class can be defined as a template/blueprint that describes the behavior/state that the object of its type support."
   ]
  },
  {
   "cell_type": "markdown",
   "id": "6b21bd7b",
   "metadata": {},
   "source": [
    "Object:-"
   ]
  },
  {
   "cell_type": "markdown",
   "id": "2fdde511",
   "metadata": {},
   "source": [
    " An object is an instance of a class. An object has behaviours and state."
   ]
  },
  {
   "cell_type": "code",
   "execution_count": 4,
   "id": "2d561456",
   "metadata": {},
   "outputs": [],
   "source": [
    "class vehicle:\n",
    "    \n",
    "    def __init__(self, speed, capacity, year_of_manufacturing):\n",
    "        self.speed = speed\n",
    "        self.capacity = capacity\n",
    "        self.manufacturing = year_of_manufacturing\n",
    "        \n",
    "        \n",
    "bus = vehicle(200,54,2009)        "
   ]
  },
  {
   "cell_type": "markdown",
   "id": "094c8e74",
   "metadata": {},
   "source": [
    "In the above example vehicle is the class and bus is the instance or object of the class vehicle."
   ]
  },
  {
   "cell_type": "markdown",
   "id": "7f248683",
   "metadata": {},
   "source": [
    "#### Q2. Name the four pillars of OOPs.\n"
   ]
  },
  {
   "cell_type": "markdown",
   "id": "8a5c886f",
   "metadata": {},
   "source": [
    "These four pillars are Inheritance, Polymorphism, Encapsulation and Abstraction"
   ]
  },
  {
   "cell_type": "markdown",
   "id": "d74af6e1",
   "metadata": {},
   "source": [
    "#### Q3. Explain why the __init__() function is used. Give a suitable example.\n"
   ]
  },
  {
   "cell_type": "markdown",
   "id": "a9c048ee",
   "metadata": {},
   "source": [
    "__init__ is a special python method that runs whenever a new object is created. These types of functions are used to initialize the attributes of that class, E.g., if the class is Person, then the attributes will be name, age, etc."
   ]
  },
  {
   "cell_type": "code",
   "execution_count": 5,
   "id": "d33493ed",
   "metadata": {},
   "outputs": [
    {
     "name": "stdout",
     "output_type": "stream",
     "text": [
      "I ran first\n",
      "I ran second\n",
      "Name: Audi R8\n"
     ]
    }
   ],
   "source": [
    "class Car:\n",
    "    def __init__(self, name):\n",
    "        self.name = name\n",
    "        print(\"I ran first\")\n",
    " \n",
    "    def product(self):\n",
    "        print(\"I ran second\")\n",
    "        return (\"Name: \" + self.name)\n",
    " \n",
    " \n",
    "C = Car('Audi R8')\n",
    "print(C.product())\n"
   ]
  },
  {
   "cell_type": "markdown",
   "id": "26ebbf44",
   "metadata": {},
   "source": [
    "#### Q4. Why self is used in OOPs?\n"
   ]
  },
  {
   "cell_type": "markdown",
   "id": "c240f5b2",
   "metadata": {},
   "source": [
    "The self variable is used to represent the instance of the class which is often used in object-oriented programming. It works as a reference to the object"
   ]
  },
  {
   "cell_type": "markdown",
   "id": "73ab23c7",
   "metadata": {},
   "source": [
    "#### Q5. What is inheritance? Give an example for each type of inheritance."
   ]
  },
  {
   "cell_type": "markdown",
   "id": "65cdf689",
   "metadata": {},
   "source": [
    "Inheritance is defined as a mechanism where the sub or child class inherits the properties and characteristics of the super class or other derived classes. It also supports additional features of extracting properties from the child class and using it into other derived classes"
   ]
  },
  {
   "cell_type": "markdown",
   "id": "206727fc",
   "metadata": {},
   "source": [
    "There are differnt types of inheretance. These are: Single Inheritance, Multiple Inheritance, Multilevel Inheritance, Heirarchical Inheritance, Hybrid Inheritance."
   ]
  },
  {
   "cell_type": "markdown",
   "id": "e4c1f447",
   "metadata": {},
   "source": [
    "### Example of single inheritance"
   ]
  },
  {
   "cell_type": "code",
   "execution_count": 13,
   "id": "852343f1",
   "metadata": {},
   "outputs": [
    {
     "name": "stdout",
     "output_type": "stream",
     "text": [
      "This function is defined inside the parent class.\n",
      "This function is defined inside the child class.\n"
     ]
    }
   ],
   "source": [
    "class Parent1:  \n",
    "    def func_1(self):  \n",
    "        print (\"This function is defined inside the parent class.\")  \n",
    "  \n",
    "# now, we will create the Derived class  \n",
    "class Child1(Parent1):  \n",
    "    def func_2(self):  \n",
    "        print (\"This function is defined inside the child class.\")  \n",
    "  \n",
    "# Driver's code  \n",
    "object = Child1()  \n",
    "object.func_1()  \n",
    "object.func_2()  \n"
   ]
  },
  {
   "cell_type": "markdown",
   "id": "c2d57abf",
   "metadata": {},
   "source": [
    "### Example of multiple inheritance"
   ]
  },
  {
   "cell_type": "code",
   "execution_count": 14,
   "id": "08724407",
   "metadata": {},
   "outputs": [
    {
     "name": "stdout",
     "output_type": "stream",
     "text": [
      "Father name is : Rajesh\n",
      "Mother name is : Shreya\n"
     ]
    }
   ],
   "source": [
    "class Mother1:  \n",
    "    mothername1 = \"\"  \n",
    "    def mother1(self):  \n",
    "        print(self.mothername1)  \n",
    "  \n",
    "# Here, we will create the Base class 2  \n",
    "class Father1:  \n",
    "    fathername1 = \"\"  \n",
    "    def father1(self):  \n",
    "        print(self.fathername1)  \n",
    "  \n",
    "# now, we will create the Derived class  \n",
    "class Son1(Mother1, Father1):  \n",
    "    def parents1(self):  \n",
    "        print (\"Father name is :\", self.fathername1)  \n",
    "        print (\"Mother name is :\", self.mothername1)  \n",
    "\n",
    "# Driver's code  \n",
    "s1 = Son1()  \n",
    "s1.fathername1 = \"Rajesh\"  \n",
    "s1.mothername1 = \"Shreya\"  \n",
    "s1.parents1()          "
   ]
  },
  {
   "cell_type": "markdown",
   "id": "e790c6fa",
   "metadata": {},
   "source": [
    "### Example of multilevel inheritance"
   ]
  },
  {
   "cell_type": "code",
   "execution_count": 16,
   "id": "a2fb13d9",
   "metadata": {},
   "outputs": [
    {
     "name": "stdout",
     "output_type": "stream",
     "text": [
      "John Jr Jr\n",
      "Grandfather name is : John Jr Jr\n",
      "Father name is : John Jr\n",
      "Son name is : John\n"
     ]
    }
   ],
   "source": [
    "class Grandfather1:  \n",
    "  \n",
    "    def __init__(self, grandfathername1):  \n",
    "        self.grandfathername1 = grandfathername1  \n",
    "  \n",
    "# here, we will create the Intermediate class  \n",
    "class Father1(Grandfather1):  \n",
    "    def __init__(self, fathername1, grandfathername1):  \n",
    "        self.fathername1 = fathername1  \n",
    "  \n",
    "        # here, we will invoke the constructor of Grandfather class  \n",
    "        Grandfather1.__init__(self, grandfathername1)  \n",
    "  \n",
    "# here, we will create the Derived class  \n",
    "class Son1(Father1):  \n",
    "    def __init__(self,sonname1, fathername1, grandfathername1):  \n",
    "        self.sonname1 = sonname1  \n",
    "  \n",
    "        # here, we will invoke the constructor of Father class  \n",
    "        Father1.__init__(self, fathername1, grandfathername1)  \n",
    "  \n",
    "    def print_name(self):  \n",
    "        print('Grandfather name is :', self.grandfathername1)  \n",
    "        print(\"Father name is :\", self.fathername1)  \n",
    "        print(\"Son name is :\", self.sonname1)  \n",
    "  \n",
    "# Driver code  \n",
    "s1 = Son1('John', 'John Jr', 'John Jr Jr')  \n",
    "print (s1.grandfathername1)  \n",
    "s1.print_name()  \n"
   ]
  },
  {
   "cell_type": "markdown",
   "id": "653e95e8",
   "metadata": {},
   "source": [
    "### Example of Hierarchical Inheritance"
   ]
  },
  {
   "cell_type": "code",
   "execution_count": 17,
   "id": "e9db6d9a",
   "metadata": {},
   "outputs": [
    {
     "name": "stdout",
     "output_type": "stream",
     "text": [
      "This function is defined inside the parent class.\n",
      "This function is defined inside the child 1.\n",
      "This function is defined inside the parent class.\n",
      "This function is defined inside the child 2.\n"
     ]
    }
   ],
   "source": [
    "class Parent1:  \n",
    "    def func_1(self):  \n",
    "        print (\"This function is defined inside the parent class.\")  \n",
    "  \n",
    "# Derived class1  \n",
    "class Child_1(Parent1):  \n",
    "    def func_2(self):  \n",
    "        print (\"This function is defined inside the child 1.\")  \n",
    "  \n",
    "# Derivied class2  \n",
    "class Child_2(Parent1):  \n",
    "    def func_3(self):  \n",
    "        print (\"This function is defined inside the child 2.\")  \n",
    "  \n",
    "# Driver's code  \n",
    "object1 = Child_1()  \n",
    "object2 = Child_2()  \n",
    "object1.func_1()  \n",
    "object1.func_2()  \n",
    "object2.func_1()  \n",
    "object2.func_3()  \n"
   ]
  }
 ],
 "metadata": {
  "kernelspec": {
   "display_name": "Python 3 (ipykernel)",
   "language": "python",
   "name": "python3"
  },
  "language_info": {
   "codemirror_mode": {
    "name": "ipython",
    "version": 3
   },
   "file_extension": ".py",
   "mimetype": "text/x-python",
   "name": "python",
   "nbconvert_exporter": "python",
   "pygments_lexer": "ipython3",
   "version": "3.10.9"
  }
 },
 "nbformat": 4,
 "nbformat_minor": 5
}
