{
 "cells": [
  {
   "cell_type": "markdown",
   "id": "90947a60",
   "metadata": {},
   "source": [
    "# OOPS TASK ASSIGNMENT "
   ]
  },
  {
   "cell_type": "markdown",
   "id": "bf0a0534",
   "metadata": {},
   "source": [
    "#### Q1, Create a vehicle class with an init method having instance variables as name_of_vehicle, max_speed and average_of_vehicle.\n",
    "\n"
   ]
  },
  {
   "cell_type": "code",
   "execution_count": 8,
   "id": "21f08a3e",
   "metadata": {},
   "outputs": [
    {
     "name": "stdout",
     "output_type": "stream",
     "text": [
      "Honda\n",
      "250\n"
     ]
    }
   ],
   "source": [
    "class vehicle:\n",
    "    \n",
    "    def __init__(self,name_of_vehicle,max_speed,average_of_vehicle):\n",
    "        self.name = name_of_vehicle\n",
    "        self.speed = max_speed\n",
    "        self.average = average_of_vehicle\n",
    "        \n",
    "\n",
    "xyz = vehicle('Honda',250,4.5)\n",
    "print(xyz.name)\n",
    "print(xyz.speed)"
   ]
  },
  {
   "cell_type": "markdown",
   "id": "88d28c1c",
   "metadata": {},
   "source": [
    "#### Q2. Create a child class car from the vehicle class created in Que 1, which will inherit the vehicle class.Create a method named seating_capacity which takes capacity as an argument and returns the name of the vehicle and its seating capacity.\n",
    "\n",
    "\n"
   ]
  },
  {
   "cell_type": "code",
   "execution_count": 19,
   "id": "352cc5f5",
   "metadata": {},
   "outputs": [
    {
     "name": "stdout",
     "output_type": "stream",
     "text": [
      "<bound method vehicle.seat_cap of <__main__.car object at 0x000001D8702C1510>>\n"
     ]
    }
   ],
   "source": [
    "class vehicle:\n",
    "    \n",
    "    def __init__(self,name_of_vehicle,max_speed,average_of_vehicle):\n",
    "        self.name = name_of_vehicle\n",
    "        self.speed = max_speed\n",
    "        self.average = average_of_vehicle\n",
    "        \n",
    "    def seat_cap(self):\n",
    "       return f\"The name of vehicle is {self.name} and seating capacity is {self.seating_capacity}\" \n",
    "    \n",
    "class car(vehicle):\n",
    "    pass\n",
    "    \n",
    "    \n",
    "abc = car(\"Honda\",250,5) \n",
    "print(abc.seat_cap)"
   ]
  },
  {
   "cell_type": "markdown",
   "id": "e9a15f5a",
   "metadata": {},
   "source": [
    "#### Q3. What is multiple inheritance? Write a python code to demonstrate multiple inheritance.\n"
   ]
  },
  {
   "cell_type": "markdown",
   "id": "4b666ef1",
   "metadata": {},
   "source": [
    "A class can be derived from more than one superclass in Python. This is called multiple inheritance."
   ]
  },
  {
   "cell_type": "code",
   "execution_count": 17,
   "id": "f7a94a0f",
   "metadata": {},
   "outputs": [
    {
     "name": "stdout",
     "output_type": "stream",
     "text": [
      "Mammals can give direct birth.\n",
      "Winged animals can flap.\n"
     ]
    }
   ],
   "source": [
    "class Mammal:\n",
    "    def mammal_info(self):\n",
    "        print(\"Mammals can give direct birth.\")\n",
    "\n",
    "class WingedAnimal:\n",
    "    def winged_animal_info(self):\n",
    "        print(\"Winged animals can flap.\")\n",
    "\n",
    "class Bat(Mammal, WingedAnimal):\n",
    "    pass\n",
    "\n",
    "# create an object of Bat class\n",
    "b1 = Bat()\n",
    "\n",
    "b1.mammal_info()\n",
    "b1.winged_animal_info()"
   ]
  },
  {
   "cell_type": "markdown",
   "id": "03af7dc9",
   "metadata": {},
   "source": [
    "#### Q4. What are getter and setter in python? Create a class and create a getter and a setter method in this class.\n",
    "\n"
   ]
  },
  {
   "cell_type": "markdown",
   "id": "ada54e0f",
   "metadata": {},
   "source": [
    "For the purpose of data encapsulation, most object oriented languages use getters and setters method. This is because we want to hide the attributes of a object class from other classes so that no accidental modification of the data happens by methods in other classes.\n",
    "\n",
    "As the name suggests, getters are the methods which help access the private attributes or get the value of the private attributes and setters are the methods which help change or set the value of private attributes.\n",
    "\n"
   ]
  },
  {
   "cell_type": "code",
   "execution_count": 24,
   "id": "317be059",
   "metadata": {},
   "outputs": [
    {
     "name": "stdout",
     "output_type": "stream",
     "text": [
      "0\n"
     ]
    },
    {
     "ename": "AttributeError",
     "evalue": "'year_graduated' object has no attribute 'set_year'",
     "output_type": "error",
     "traceback": [
      "\u001b[1;31m---------------------------------------------------------------------------\u001b[0m",
      "\u001b[1;31mAttributeError\u001b[0m                            Traceback (most recent call last)",
      "Cell \u001b[1;32mIn[24], line 18\u001b[0m\n\u001b[0;32m     15\u001b[0m \u001b[38;5;28mprint\u001b[39m(grad_obj\u001b[38;5;241m.\u001b[39mget_year())\n\u001b[0;32m     17\u001b[0m \u001b[38;5;66;03m# After using setter\u001b[39;00m\n\u001b[1;32m---> 18\u001b[0m \u001b[43mgrad_obj\u001b[49m\u001b[38;5;241;43m.\u001b[39;49m\u001b[43mset_year\u001b[49m(\u001b[38;5;241m2019\u001b[39m)\n\u001b[0;32m     19\u001b[0m \u001b[38;5;28mprint\u001b[39m(grad_obj\u001b[38;5;241m.\u001b[39m_year)\n",
      "\u001b[1;31mAttributeError\u001b[0m: 'year_graduated' object has no attribute 'set_year'"
     ]
    }
   ],
   "source": [
    "class year_graduated:\n",
    "   def __init__(self, year=0):\n",
    "      self._year = year\n",
    "\n",
    "   # getter method\n",
    "   def get_year(self):\n",
    "      return self._year\n",
    "\n",
    "# setter method\n",
    "def set_year(self, a):\n",
    "    self._year = a\n",
    "\n",
    "grad_obj = year_graduated()\n",
    "# Before using setter\n",
    "print(grad_obj.get_year())\n",
    "\n",
    "# After using setter\n",
    "grad_obj.set_year(2019)\n",
    "print(grad_obj._year)"
   ]
  },
  {
   "cell_type": "markdown",
   "id": "cbbdde73",
   "metadata": {},
   "source": [
    "#### Q5.What is method overriding in python? Write a python code to demonstrate method overriding."
   ]
  },
  {
   "cell_type": "markdown",
   "id": "466386bc",
   "metadata": {},
   "source": [
    "Refers to defining a method in a subclass that has the same name as the one in its superclass"
   ]
  },
  {
   "cell_type": "code",
   "execution_count": 25,
   "id": "1f1acb98",
   "metadata": {},
   "outputs": [
    {
     "name": "stdout",
     "output_type": "stream",
     "text": [
      "10\n",
      "30\n"
     ]
    }
   ],
   "source": [
    "class MyClass:\n",
    "   def my_method(self, arg1, arg2=None):\n",
    "      if arg2:\n",
    "         print(arg1 + arg2)\n",
    "      else:\n",
    "         print(arg1)\n",
    "\n",
    "# Calling the method with one argument\n",
    "obj = MyClass()\n",
    "obj.my_method(10)\n",
    "\n",
    "# Calling the method with two arguments\n",
    "obj.my_method(10, 20) "
   ]
  }
 ],
 "metadata": {
  "kernelspec": {
   "display_name": "Python 3 (ipykernel)",
   "language": "python",
   "name": "python3"
  },
  "language_info": {
   "codemirror_mode": {
    "name": "ipython",
    "version": 3
   },
   "file_extension": ".py",
   "mimetype": "text/x-python",
   "name": "python",
   "nbconvert_exporter": "python",
   "pygments_lexer": "ipython3",
   "version": "3.10.9"
  }
 },
 "nbformat": 4,
 "nbformat_minor": 5
}
