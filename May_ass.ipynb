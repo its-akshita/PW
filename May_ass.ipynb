{
 "cells": [
  {
   "cell_type": "markdown",
   "id": "6356ac3a",
   "metadata": {},
   "source": [
    "#  Assignment 1\n"
   ]
  },
  {
   "cell_type": "markdown",
   "id": "08121b7a",
   "metadata": {},
   "source": [
    "### Ans-1."
   ]
  },
  {
   "cell_type": "code",
   "execution_count": 7,
   "id": "f584ad6f",
   "metadata": {},
   "outputs": [
    {
     "name": "stdout",
     "output_type": "stream",
     "text": [
      "st:  <class 'str'>\n",
      "lst:  <class 'list'>\n",
      "a:  <class 'float'>\n",
      "tup:  <class 'int'>\n"
     ]
    }
   ],
   "source": [
    "#String type variable....\n",
    "st='This is a string type variable'\n",
    "print('st: ',type(st))\n",
    "\n",
    "\n",
    "\n",
    "#string type variable...\n",
    "lst=[1,2,3,'a','hello',3.1456]\n",
    "print('lst: ',type(lst))\n",
    "\n",
    "\n",
    "#Float type variable....\n",
    "a= 3.124\n",
    "print('a: ',type(a))\n",
    "\n",
    "\n",
    "\n",
    "#touple type variable....\n",
    "tup=(1)\n",
    "print('tup: ',type(tup))"
   ]
  },
  {
   "cell_type": "markdown",
   "id": "d1c0524a",
   "metadata": {},
   "source": [
    "### Ans-2."
   ]
  },
  {
   "cell_type": "markdown",
   "id": "87a0a104",
   "metadata": {},
   "source": [
    "#### The data type of the given variables would be\n",
    "\n",
    "var1 -> String"
   ]
  },
  {
   "cell_type": "markdown",
   "id": "d8fb797a",
   "metadata": {},
   "source": [
    "var2 -> String"
   ]
  },
  {
   "cell_type": "markdown",
   "id": "f9abe7d7",
   "metadata": {},
   "source": [
    "var3 -> List"
   ]
  },
  {
   "cell_type": "markdown",
   "id": "37d1f455",
   "metadata": {},
   "source": [
    "var4 -> Int"
   ]
  },
  {
   "cell_type": "markdown",
   "id": "ce89709a",
   "metadata": {},
   "source": [
    "### Ans-3."
   ]
  },
  {
   "cell_type": "markdown",
   "id": "03692158",
   "metadata": {},
   "source": [
    "#### The operator \" / \" is used to show the quotient after performing division on the given two numbers \n",
    "for example:"
   ]
  },
  {
   "cell_type": "code",
   "execution_count": 23,
   "id": "3e929b06",
   "metadata": {},
   "outputs": [
    {
     "name": "stdout",
     "output_type": "stream",
     "text": [
      "10/2:  5.0\n",
      "15/2:  7.5\n"
     ]
    }
   ],
   "source": [
    "print('10/2: ',10/2)\n",
    "print('15/2: ',15/2)"
   ]
  },
  {
   "cell_type": "markdown",
   "id": "fd829c9c",
   "metadata": {},
   "source": [
    "#### The operator \" % \" is used to show the remainder after performing division operation on the given two numbers \n",
    "for example:"
   ]
  },
  {
   "cell_type": "code",
   "execution_count": 24,
   "id": "bd402fb5",
   "metadata": {},
   "outputs": [
    {
     "name": "stdout",
     "output_type": "stream",
     "text": [
      "136%2:  0\n",
      "57%5:  2\n"
     ]
    }
   ],
   "source": [
    "print('136%2: ',136%2)\n",
    "print('57%5: ',57%5)"
   ]
  },
  {
   "cell_type": "markdown",
   "id": "298896dd",
   "metadata": {},
   "source": [
    "#### The operator \" // \" is used to show only the integer part of the quotient after performing division on the given two numbers \n",
    "for example:"
   ]
  },
  {
   "cell_type": "code",
   "execution_count": 25,
   "id": "7310badc",
   "metadata": {
    "scrolled": true
   },
   "outputs": [
    {
     "name": "stdout",
     "output_type": "stream",
     "text": [
      "257//2:  128\n",
      "765//2:  382\n"
     ]
    }
   ],
   "source": [
    "print('257//2: ',257//2)\n",
    "print('765//2: ',765//2)"
   ]
  },
  {
   "cell_type": "markdown",
   "id": "98c58fa8",
   "metadata": {},
   "source": [
    "#### The operator \" ** \" is used to perform power operation on the given input number \n",
    "for example:"
   ]
  },
  {
   "cell_type": "code",
   "execution_count": 26,
   "id": "7898c9a0",
   "metadata": {},
   "outputs": [
    {
     "name": "stdout",
     "output_type": "stream",
     "text": [
      "10**2:  100\n"
     ]
    }
   ],
   "source": [
    "print('10**2: ',10**2)"
   ]
  },
  {
   "cell_type": "markdown",
   "id": "88469478",
   "metadata": {},
   "source": [
    "### Ans-4."
   ]
  },
  {
   "cell_type": "code",
   "execution_count": 28,
   "id": "f829abdb",
   "metadata": {},
   "outputs": [
    {
     "name": "stdout",
     "output_type": "stream",
     "text": [
      "akshita :  <class 'str'>\n",
      "hello :  <class 'str'>\n",
      "1 :  <class 'int'>\n",
      "2 :  <class 'int'>\n",
      "3 :  <class 'int'>\n",
      "75.66 :  <class 'float'>\n",
      "34.2 :  <class 'float'>\n",
      "(3+4j) :  <class 'complex'>\n"
     ]
    }
   ],
   "source": [
    "lst=['akshita','hello',1,2,3,75.66,34.2,3+4j]\n",
    "for i in lst:\n",
    "    print(i,': ',type(i))"
   ]
  },
  {
   "cell_type": "markdown",
   "id": "a7054efd",
   "metadata": {},
   "source": [
    "### Ans-5."
   ]
  },
  {
   "cell_type": "code",
   "execution_count": 29,
   "id": "39b50145",
   "metadata": {},
   "outputs": [
    {
     "name": "stdout",
     "output_type": "stream",
     "text": [
      "Enter Dividend : 326\n",
      "Enter Divisor : 2\n",
      "Number A is divisible by Number B 1 times.\n"
     ]
    }
   ],
   "source": [
    "A = int(input(\"Enter Dividend : \"))\n",
    "B = int(input(\"Enter Divisor : \"))\n",
    "count = 0\n",
    "\n",
    "while A%B==0:\n",
    "    count +=1\n",
    "    A/=B\n",
    "    \n",
    "if count>0:\n",
    "    print(\"Number A is divisible by Number B\",count,\"times.\")\n",
    "else:\n",
    "    print(\"Number A is not divisible by Number B.\")"
   ]
  },
  {
   "cell_type": "markdown",
   "id": "cbf63649",
   "metadata": {},
   "source": [
    "### Ans-6. "
   ]
  },
  {
   "cell_type": "code",
   "execution_count": 31,
   "id": "a4955540",
   "metadata": {},
   "outputs": [
    {
     "name": "stdout",
     "output_type": "stream",
     "text": [
      "10 is not divisible by 3\n",
      "20 is not divisible by 3\n",
      "21 is divisible by 3\n",
      "36 is divisible by 3\n",
      "49 is not divisible by 3\n",
      "58 is not divisible by 3\n",
      "8 is not divisible by 3\n",
      "9 is divisible by 3\n",
      "12 is divisible by 3\n",
      "13 is not divisible by 3\n",
      "14 is not divisible by 3\n",
      "87 is divisible by 3\n",
      "59 is not divisible by 3\n",
      "44 is not divisible by 3\n",
      "32 is not divisible by 3\n",
      "61 is not divisible by 3\n",
      "63 is divisible by 3\n",
      "1 is not divisible by 3\n",
      "2 is not divisible by 3\n",
      "3 is divisible by 3\n",
      "27 is divisible by 3\n",
      "36 is divisible by 3\n",
      "33 is divisible by 3\n",
      "45 is divisible by 3\n",
      "47 is not divisible by 3\n"
     ]
    }
   ],
   "source": [
    "lst=[10,20,21,36,49,58,8,9,12,13,14,87,59,44,32,61,63,1,2,3,27,36,33,45,47]\n",
    "for i in lst:\n",
    "    if i%3==0:\n",
    "        print(i,'is divisible by 3')\n",
    "    else:\n",
    "        print(i,'is not divisible by 3')"
   ]
  },
  {
   "cell_type": "markdown",
   "id": "7e1e5277",
   "metadata": {},
   "source": [
    "### Ans-7. "
   ]
  },
  {
   "cell_type": "markdown",
   "id": "6d5e85bd",
   "metadata": {},
   "source": [
    "#### Mutable data types are the data type  that allow user to change the elements without changing it's identity\n",
    "For example: List"
   ]
  },
  {
   "cell_type": "code",
   "execution_count": 2,
   "id": "45b40dc0",
   "metadata": {},
   "outputs": [
    {
     "name": "stdout",
     "output_type": "stream",
     "text": [
      "[1, 2, 3, 4, 5] :  <class 'list'>\n",
      "[1, 2, 3, 7, 5] :  <class 'list'>\n"
     ]
    }
   ],
   "source": [
    "#Decelaration of list\n",
    "lst=[1,2,3,4,5]\n",
    "print(lst,': ',type(lst))\n",
    "\n",
    "#Upgarded list\n",
    "lst[3]=7\n",
    "print(lst,': ',type(lst))"
   ]
  },
  {
   "cell_type": "markdown",
   "id": "934db225",
   "metadata": {},
   "source": [
    "#### Immutable data types are those data type which doesnot allow its object to change the elements at user's will\n",
    "For example: String"
   ]
  },
  {
   "cell_type": "code",
   "execution_count": 3,
   "id": "e5c2f47c",
   "metadata": {},
   "outputs": [
    {
     "name": "stdout",
     "output_type": "stream",
     "text": [
      "Akshita :  <class 'str'>\n"
     ]
    },
    {
     "ename": "TypeError",
     "evalue": "'str' object does not support item assignment",
     "output_type": "error",
     "traceback": [
      "\u001b[1;31m---------------------------------------------------------------------------\u001b[0m",
      "\u001b[1;31mTypeError\u001b[0m                                 Traceback (most recent call last)",
      "Cell \u001b[1;32mIn[3], line 6\u001b[0m\n\u001b[0;32m      3\u001b[0m \u001b[38;5;28mprint\u001b[39m(st,\u001b[38;5;124m'\u001b[39m\u001b[38;5;124m: \u001b[39m\u001b[38;5;124m'\u001b[39m,\u001b[38;5;28mtype\u001b[39m(st))\n\u001b[0;32m      5\u001b[0m \u001b[38;5;66;03m#upgarding the sting\u001b[39;00m\n\u001b[1;32m----> 6\u001b[0m st[\u001b[38;5;241m3\u001b[39m]\u001b[38;5;241m=\u001b[39m\u001b[38;5;124m'\u001b[39m\u001b[38;5;124mi\u001b[39m\u001b[38;5;124m'\u001b[39m\n\u001b[0;32m      7\u001b[0m \u001b[38;5;28mprint\u001b[39m(st,\u001b[38;5;124m'\u001b[39m\u001b[38;5;124m: \u001b[39m\u001b[38;5;124m'\u001b[39m,\u001b[38;5;28mtype\u001b[39m(st))\n",
      "\u001b[1;31mTypeError\u001b[0m: 'str' object does not support item assignment"
     ]
    }
   ],
   "source": [
    "#Declaration of string\n",
    "st='Akshita'\n",
    "print(st,': ',type(st))\n",
    "\n",
    "#upgarding the sting\n",
    "st[3]='i'\n",
    "print(st,': ',type(st))"
   ]
  }
 ],
 "metadata": {
  "kernelspec": {
   "display_name": "Python 3 (ipykernel)",
   "language": "python",
   "name": "python3"
  },
  "language_info": {
   "codemirror_mode": {
    "name": "ipython",
    "version": 3
   },
   "file_extension": ".py",
   "mimetype": "text/x-python",
   "name": "python",
   "nbconvert_exporter": "python",
   "pygments_lexer": "ipython3",
   "version": "3.10.9"
  }
 },
 "nbformat": 4,
 "nbformat_minor": 5
}
