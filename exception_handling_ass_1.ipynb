{
 "cells": [
  {
   "cell_type": "markdown",
   "id": "4ea50b04",
   "metadata": {},
   "source": [
    "## Eception Handling Assignment 1"
   ]
  },
  {
   "cell_type": "markdown",
   "id": "a1323551",
   "metadata": {},
   "source": [
    "#### Q1. What is an Exception in python? Write the difference between Exceptions and syntax errors"
   ]
  },
  {
   "cell_type": "markdown",
   "id": "217098b4",
   "metadata": {},
   "source": [
    "An exception is an event which occur during the execution of a program that disturbs the normal flow of the program's instructions."
   ]
  },
  {
   "cell_type": "markdown",
   "id": "4cf1b244",
   "metadata": {},
   "source": [
    "An execption is not any logical or any kind of error in the program but it can stop the program due to choice of the user."
   ]
  },
  {
   "cell_type": "code",
   "execution_count": 1,
   "id": "3605b6bc",
   "metadata": {},
   "outputs": [
    {
     "name": "stdout",
     "output_type": "stream",
     "text": [
      "please enter the number of your choice: 4\n",
      "Please enter the second number of your choice: 0\n"
     ]
    },
    {
     "ename": "ZeroDivisionError",
     "evalue": "division by zero",
     "output_type": "error",
     "traceback": [
      "\u001b[1;31m---------------------------------------------------------------------------\u001b[0m",
      "\u001b[1;31mZeroDivisionError\u001b[0m                         Traceback (most recent call last)",
      "Cell \u001b[1;32mIn[1], line 5\u001b[0m\n\u001b[0;32m      1\u001b[0m a \u001b[38;5;241m=\u001b[39m \u001b[38;5;28mint\u001b[39m(\u001b[38;5;28minput\u001b[39m(\u001b[38;5;124m'\u001b[39m\u001b[38;5;124mplease enter the number of your choice: \u001b[39m\u001b[38;5;124m'\u001b[39m))\n\u001b[0;32m      3\u001b[0m b \u001b[38;5;241m=\u001b[39m \u001b[38;5;28mint\u001b[39m(\u001b[38;5;28minput\u001b[39m(\u001b[38;5;124m'\u001b[39m\u001b[38;5;124mPlease enter the second number of your choice: \u001b[39m\u001b[38;5;124m'\u001b[39m))\n\u001b[1;32m----> 5\u001b[0m \u001b[38;5;28mprint\u001b[39m(\u001b[38;5;124m'\u001b[39m\u001b[38;5;124mb divides a is: \u001b[39m\u001b[38;5;124m'\u001b[39m, \u001b[43ma\u001b[49m\u001b[38;5;241;43m/\u001b[39;49m\u001b[43mb\u001b[49m)\n",
      "\u001b[1;31mZeroDivisionError\u001b[0m: division by zero"
     ]
    }
   ],
   "source": [
    "a = int(input('please enter the number of your choice: '))\n",
    "\n",
    "b = int(input('Please enter the second number of your choice: '))\n",
    "\n",
    "print('b divides a is: ', a/b)"
   ]
  },
  {
   "cell_type": "markdown",
   "id": "36922a68",
   "metadata": {},
   "source": [
    "##### Difference between  EXCEPTIONS and SYNTAX ERRORS"
   ]
  },
  {
   "cell_type": "markdown",
   "id": "712edf87",
   "metadata": {},
   "source": [
    "Syntax errors are those errors that can not be recovered and will cause the complete program to fail while exceptions are special reversible situations which may or may not arise. Exceptions can be handled using exception handling in python."
   ]
  },
  {
   "cell_type": "markdown",
   "id": "e93e3e0e",
   "metadata": {},
   "source": [
    "#### Q2. What happens when an exception is not handled? Explain with an example"
   ]
  },
  {
   "cell_type": "markdown",
   "id": "123f36f1",
   "metadata": {},
   "source": [
    "If any exception occurs, the try clause will be skipped and ebxcept clause will run. If any exception occurs but the except clause within the code doesnot handle it then it passes on the outer try block. If the exception is left unhandled, then the execution of the program stops."
   ]
  },
  {
   "cell_type": "code",
   "execution_count": 2,
   "id": "ba51f1d2",
   "metadata": {},
   "outputs": [
    {
     "name": "stdout",
     "output_type": "stream",
     "text": [
      "Yea ! ypur answer is :  2\n",
      "Sorry ! you are dividing by zero\n"
     ]
    }
   ],
   "source": [
    "# Python code to illustrate exception handling\n",
    "\n",
    "def divide(x,y):\n",
    "    \n",
    "    try:\n",
    "        res = x//y\n",
    "        \n",
    "    except ZeroDivisionError:\n",
    "        print(\"Sorry ! you are dividing by zero\")\n",
    "        \n",
    "    else:\n",
    "        print(\"Yea ! ypur answer is : \",res)\n",
    "        \n",
    "        \n",
    "divide(6,3)\n",
    "divide(3,0)"
   ]
  },
  {
   "cell_type": "markdown",
   "id": "b9f5f7d0",
   "metadata": {},
   "source": [
    "#### Q3. Which Python statements are used to catch and handle exceptions? Explain with an example"
   ]
  },
  {
   "cell_type": "markdown",
   "id": "82de880c",
   "metadata": {},
   "source": [
    "The \"try\" and \"except\" block is used to catch and handle exceptions. To catch the exception we need to put the code that may potentially rise an error inside the \"try\" block and the "
   ]
  },
  {
   "cell_type": "markdown",
   "id": "e6bdcf74",
   "metadata": {},
   "source": [
    "####  Explain with an example : a> try and else   b> finally   c> raise"
   ]
  },
  {
   "cell_type": "markdown",
   "id": "b47cc340",
   "metadata": {},
   "source": [
    "An Exception is an Event, which occurs during the execution of the program. It is also known as a run time error. When that error occurs, Python generates an exception during the execution and that can be handled, which avoids your program to interrupt."
   ]
  },
  {
   "cell_type": "markdown",
   "id": "cade19af",
   "metadata": {},
   "source": [
    "##### Try:-  \n",
    "        This block will test the excepted error to occur\n"
   ]
  },
  {
   "cell_type": "markdown",
   "id": "5a9f7ed5",
   "metadata": {},
   "source": [
    "##### Except:-   \n",
    "        Here you can handle the error\n"
   ]
  },
  {
   "cell_type": "markdown",
   "id": "2c42c554",
   "metadata": {},
   "source": [
    "##### Else:-    \n",
    "        If there is no exception then this block will be executed\n"
   ]
  },
  {
   "cell_type": "markdown",
   "id": "19a64516",
   "metadata": {},
   "source": [
    "##### Finally:-   \n",
    "        Finally block always gets executed either exception is generated or not\n"
   ]
  },
  {
   "cell_type": "markdown",
   "id": "ced63a73",
   "metadata": {},
   "source": [
    "##### For example"
   ]
  },
  {
   "cell_type": "code",
   "execution_count": 1,
   "id": "ba479dda",
   "metadata": {},
   "outputs": [
    {
     "name": "stdout",
     "output_type": "stream",
     "text": [
      "Yeah ! Your answer is : 1\n",
      "Sorry ! You are dividing by zero \n"
     ]
    }
   ],
   "source": [
    "# Python code to illustrate\n",
    "# working of try()\n",
    "def divide(x, y):\n",
    "    try:\n",
    "        # Floor Division : Gives only Fractional\n",
    "        # Part as Answer\n",
    "        result = x // y\n",
    "        print(\"Yeah ! Your answer is :\", result)\n",
    "    except ZeroDivisionError:\n",
    "        print(\"Sorry ! You are dividing by zero \")\n",
    "\n",
    "# Look at parameters and note the working of Program\n",
    "divide(3, 2)\n",
    "divide(3, 0)\n"
   ]
  },
  {
   "cell_type": "markdown",
   "id": "26592f5b",
   "metadata": {},
   "source": [
    "#### Q5. What are Custom Exceptions in python? What do we need Custom Exceptions? Explain with an example"
   ]
  },
  {
   "cell_type": "markdown",
   "id": "ec8504ec",
   "metadata": {},
   "source": [
    "##### Custom Exception:-\n",
    "Basically, exceptions are used to customize the exception according to user needs. In simple words, we can say that a User-Defined Exception or custom exception is creating your own exception class "
   ]
  },
  {
   "cell_type": "markdown",
   "id": "8ba386d1",
   "metadata": {},
   "source": [
    "##### Need for custom exception\n",
    "Custom exceptions are useful in situations where you want to handle specific errors in a program. For example, suppose you are writing a program that reads data from a file. If the file does not exist, Python will raise a FileNotFoundError exception instead of stoping all together."
   ]
  },
  {
   "cell_type": "markdown",
   "id": "40f72ffb",
   "metadata": {},
   "source": [
    "##### For Example:-"
   ]
  },
  {
   "cell_type": "code",
   "execution_count": 2,
   "id": "8f9f942f",
   "metadata": {},
   "outputs": [
    {
     "name": "stdout",
     "output_type": "stream",
     "text": [
      "This is a custom exception: 10, 20\n"
     ]
    }
   ],
   "source": [
    "class CustomException(Exception):\n",
    "    def __init__(self, message, param1, param2):\n",
    "        super().__init__(message)\n",
    "        self.param1 = param1\n",
    "        self.param2 = param2\n",
    "\n",
    "try:\n",
    "    raise CustomException(\"This is a custom exception\", 10, 20)\n",
    "except CustomException as e:\n",
    "    print(f\"{e}: {e.param1}, {e.param2}\")"
   ]
  },
  {
   "cell_type": "markdown",
   "id": "a52b7821",
   "metadata": {},
   "source": [
    "#### Q6. Create custom exception class. Use this class to handle an exception"
   ]
  },
  {
   "cell_type": "code",
   "execution_count": 4,
   "id": "ac785611",
   "metadata": {},
   "outputs": [
    {
     "name": "stdout",
     "output_type": "stream",
     "text": [
      "Enter a number: 1001\n",
      "Exception occurred: Invalid Age\n"
     ]
    }
   ],
   "source": [
    "# define Python user-defined exceptions\n",
    "class InvalidAgeException(Exception):\n",
    "    \"Raised when the input value is less than 18\"\n",
    "    pass\n",
    "\n",
    "# you need to guess this number\n",
    "number = 18\n",
    "\n",
    "try:\n",
    "    input_num = int(input(\"Enter a number: \"))\n",
    "    if input_num < number or input_num > 100:\n",
    "        raise InvalidAgeException\n",
    "    else:\n",
    "        print(\"Eligible to Vote\")\n",
    "        \n",
    "except InvalidAgeException:\n",
    "    print(\"Exception occurred: Invalid Age\")"
   ]
  }
 ],
 "metadata": {
  "kernelspec": {
   "display_name": "Python 3 (ipykernel)",
   "language": "python",
   "name": "python3"
  },
  "language_info": {
   "codemirror_mode": {
    "name": "ipython",
    "version": 3
   },
   "file_extension": ".py",
   "mimetype": "text/x-python",
   "name": "python",
   "nbconvert_exporter": "python",
   "pygments_lexer": "ipython3",
   "version": "3.10.9"
  }
 },
 "nbformat": 4,
 "nbformat_minor": 5
}
