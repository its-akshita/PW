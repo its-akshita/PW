{
 "cells": [
  {
   "cell_type": "markdown",
   "id": "8a659896",
   "metadata": {},
   "source": [
    "# Assignment 4 "
   ]
  },
  {
   "cell_type": "markdown",
   "id": "317bb2dd",
   "metadata": {},
   "source": [
    "#### Q1. Create a python program to sort the given list of tuples based on integer value using a lambda function.\n",
    "\n",
    "[('Sachin Tendulkar', 34357), ('Ricky Ponting', 27483), ('Jack Kallis', 25534), ('Virat Kohli', 24936)]\n"
   ]
  },
  {
   "cell_type": "code",
   "execution_count": 3,
   "id": "f7de1300",
   "metadata": {},
   "outputs": [
    {
     "name": "stdout",
     "output_type": "stream",
     "text": [
      "Original list of tuple is:\n",
      "[('Sachin Tendulkar', 34357), ('Ricky Ponting', 27483), ('Jack Kallis', 25534), ('Virat Kohli', 24936)]\n",
      "Sorted list of tuple is: \n",
      "[('Virat Kohli', 24936), ('Jack Kallis', 25534), ('Ricky Ponting', 27483), ('Sachin Tendulkar', 34357)]\n"
     ]
    }
   ],
   "source": [
    "#Declaring list of tuples\n",
    "lst = [('Sachin Tendulkar', 34357), ('Ricky Ponting', 27483), ('Jack Kallis', 25534), ('Virat Kohli', 24936)]\n",
    "\n",
    "#printing original list\n",
    "print('Original list of tuple is:')\n",
    "print(lst)\n",
    "\n",
    "\n",
    "#printing sorted list\n",
    "print('Sorted list of tuple is: ')\n",
    "lst.sort(key = lambda x: x[1])\n",
    "print(lst)"
   ]
  },
  {
   "cell_type": "markdown",
   "id": "d6d66a10",
   "metadata": {},
   "source": [
    "#### Q2. Write a Python Program to find the squares of all the numbers in the given list of integers using lambda and map functions. \n",
    "\n",
    "[1, 2, 3, 4, 5, 6, 7, 8, 9, 10]\n",
    "\n",
    "\n"
   ]
  },
  {
   "cell_type": "code",
   "execution_count": 5,
   "id": "ccfcb3bb",
   "metadata": {},
   "outputs": [
    {
     "name": "stdout",
     "output_type": "stream",
     "text": [
      "Original list of integers:\n",
      "[1, 2, 3, 4, 5, 6, 7, 8, 9, 10]\n",
      "\n",
      "Square every number of the said list:\n",
      "[1, 4, 9, 16, 25, 36, 49, 64, 81, 100]\n"
     ]
    }
   ],
   "source": [
    "#Declaring list of inteders\n",
    "nums = [1, 2, 3, 4, 5, 6, 7, 8, 9, 10]\n",
    "\n",
    "#printing list of integers....\n",
    "print(\"Original list of integers:\")\n",
    "print(nums)\n",
    "\n",
    "# calculating the suare of elements of the list\n",
    "print(\"\\nSquare every number of the said list:\")\n",
    "square_nums = list(map(lambda x: x ** 2, nums))\n",
    "\n",
    "#printing square of numbers\n",
    "print(square_nums)\n",
    "\n"
   ]
  },
  {
   "cell_type": "markdown",
   "id": "52b5dbdc",
   "metadata": {},
   "source": [
    "#### Q3. Write a python program to convert the given list of integers into a tuple of strings. Use map and lambda functions\n",
    "\n",
    "Given String: [1, 2, 3, 4, 5, 6, 7, 8, 9, 10]                                                                                   \n",
    "Expected output: ('1', '2', '3', '4', '5', '6', '7', '8', '9', '10')\n"
   ]
  },
  {
   "cell_type": "code",
   "execution_count": 9,
   "id": "72d44a3d",
   "metadata": {},
   "outputs": [
    {
     "name": "stdout",
     "output_type": "stream",
     "text": [
      "Original input list is:  [1, 2, 3, 4, 5, 6, 7, 8, 9, 10]\n",
      "Output tuple is:  ('1', '2', '3', '4', '5', '6', '7', '8', '9', '10')\n"
     ]
    }
   ],
   "source": [
    "#given input\n",
    "String = [1,2,3,4,5,6,7,8,9,10]\n",
    "\n",
    "\n",
    "#printting original input list\n",
    "print('Original input list is: ', String)\n",
    "\n",
    "\n",
    "#converting input list into tuple\n",
    "output = tuple(map(str ,String))\n",
    "\n",
    "\n",
    "#printing the output tuple\n",
    "print('Output tuple is: ' ,output)"
   ]
  },
  {
   "cell_type": "markdown",
   "id": "bfd97596",
   "metadata": {},
   "source": [
    "#### Q4. Write a python program using reduce function to compute the product of a list containing numbers from 1 to 25.\n",
    "\n"
   ]
  },
  {
   "cell_type": "code",
   "execution_count": 12,
   "id": "2bad5797",
   "metadata": {},
   "outputs": [
    {
     "name": "stdout",
     "output_type": "stream",
     "text": [
      "Original list numbers:\n",
      "[1, 2, 3, 4, 5, 6, 7, 8, 9, 10, 11, 12, 13, 14, 15, 16, 17, 18, 19, 20, 21, 22, 23, 24, 25]\n",
      "\n",
      "Product of the said numbers (without using for loop): 15511210043330985984000000\n"
     ]
    }
   ],
   "source": [
    "from functools import reduce\n",
    "nums = [1,2,3,4,5,6,7,8,9,10,11,12,13,14,15,16,17,18,19,20,21,22,23,24,25]\n",
    "\n",
    "print(\"Original list numbers:\")\n",
    "print(nums)\n",
    "\n",
    "\n",
    "nums_product = reduce( (lambda x, y: x * y), nums)\n",
    "print(\"\\nProduct of the said numbers (without using for loop):\",nums_product)\n"
   ]
  },
  {
   "cell_type": "markdown",
   "id": "db145ce9",
   "metadata": {},
   "source": [
    "#### Q5. Write a python program to filter the numbers in a given list that are divisible by 2 and 3 using the filter function. [2, 3, 6, 9, 27, 60, 90, 120, 55, 46]\n",
    "\n",
    "\n"
   ]
  },
  {
   "cell_type": "code",
   "execution_count": 17,
   "id": "1b0c0c90",
   "metadata": {},
   "outputs": [
    {
     "name": "stdout",
     "output_type": "stream",
     "text": [
      "The given list of numbers is:  [2, 3, 6, 9, 27, 60, 90, 120, 55, 46]\n",
      "The list of numbers divisible by 2 and 3 is:  [6, 60, 90, 120]\n"
     ]
    }
   ],
   "source": [
    "#given input list\n",
    "lst = [2,3,6,9,27,60,90,120,55,46]\n",
    "\n",
    "#printing given list\n",
    "print('The given list of numbers is: ',lst)\n",
    "\n",
    "#computing and printing list of numbers divisible by 2 AND 3\n",
    "result = list(filter(lambda x:((x%2==0) and (x%3==0)) ,lst))\n",
    "print('The list of numbers divisible by 2 and 3 is: ',result)"
   ]
  },
  {
   "cell_type": "markdown",
   "id": "5677b0cd",
   "metadata": {},
   "source": [
    "#### Q6. Write a python program to find palindromes in the given list of strings using lambda and filter function. ['python', 'php', 'aba', 'radar', 'level']`\n",
    "\n"
   ]
  },
  {
   "cell_type": "code",
   "execution_count": 19,
   "id": "5a3c56b4",
   "metadata": {},
   "outputs": [
    {
     "name": "stdout",
     "output_type": "stream",
     "text": [
      "The given list of stings is:  ['python', 'php', 'aba', 'radar', 'level']\n",
      "The list of palindrome strings is:  ['php', 'aba', 'radar', 'level']\n"
     ]
    }
   ],
   "source": [
    "#given list of strings\n",
    "lst = ['python', 'php', 'aba', 'radar', 'level']\n",
    "\n",
    "#printing original list\n",
    "print('The given list of stings is: ',lst)\n",
    "\n",
    "#computing and printing the list of palindrome strings\n",
    "plist = list(filter(lambda x: (x == x[::-1]),lst))\n",
    "print('The list of palindrome strings is: ',plist)"
   ]
  }
 ],
 "metadata": {
  "kernelspec": {
   "display_name": "Python 3 (ipykernel)",
   "language": "python",
   "name": "python3"
  },
  "language_info": {
   "codemirror_mode": {
    "name": "ipython",
    "version": 3
   },
   "file_extension": ".py",
   "mimetype": "text/x-python",
   "name": "python",
   "nbconvert_exporter": "python",
   "pygments_lexer": "ipython3",
   "version": "3.10.9"
  }
 },
 "nbformat": 4,
 "nbformat_minor": 5
}
